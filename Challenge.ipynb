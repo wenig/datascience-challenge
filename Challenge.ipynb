{
 "cells": [
  {
   "cell_type": "markdown",
   "metadata": {},
   "source": [
    "# Hello Bunch!"
   ]
  },
  {
   "cell_type": "code",
   "execution_count": 1,
   "metadata": {},
   "outputs": [],
   "source": [
    "%matplotlib inline\n",
    "\n",
    "import pandas as pd\n",
    "import spacy\n",
    "import numpy as np\n",
    "import nltk\n",
    "import seaborn"
   ]
  },
  {
   "cell_type": "markdown",
   "metadata": {},
   "source": [
    "## Load data and prepare it"
   ]
  },
  {
   "cell_type": "code",
   "execution_count": 2,
   "metadata": {},
   "outputs": [],
   "source": [
    "df = pd.read_pickle('data/labelled_dataset.pickle')"
   ]
  },
  {
   "cell_type": "code",
   "execution_count": 3,
   "metadata": {},
   "outputs": [
    {
     "data": {
      "text/plain": [
       "(91580, 2)"
      ]
     },
     "execution_count": 3,
     "metadata": {},
     "output_type": "execute_result"
    }
   ],
   "source": [
    "df.shape"
   ]
  },
  {
   "cell_type": "code",
   "execution_count": 4,
   "metadata": {},
   "outputs": [
    {
     "data": {
      "text/plain": [
       "array(['customer', 'collaboration', 'adaptability', 'detail', 'result',\n",
       "       'integrity', 'null'], dtype=object)"
      ]
     },
     "execution_count": 4,
     "metadata": {},
     "output_type": "execute_result"
    }
   ],
   "source": [
    "df.labelmax.unique()"
   ]
  },
  {
   "cell_type": "code",
   "execution_count": 5,
   "metadata": {},
   "outputs": [],
   "source": [
    "df = df[(df.labelmax != 'null')].reset_index()"
   ]
  },
  {
   "cell_type": "code",
   "execution_count": 6,
   "metadata": {},
   "outputs": [
    {
     "data": {
      "text/html": [
       "<div>\n",
       "<style scoped>\n",
       "    .dataframe tbody tr th:only-of-type {\n",
       "        vertical-align: middle;\n",
       "    }\n",
       "\n",
       "    .dataframe tbody tr th {\n",
       "        vertical-align: top;\n",
       "    }\n",
       "\n",
       "    .dataframe thead th {\n",
       "        text-align: right;\n",
       "    }\n",
       "</style>\n",
       "<table border=\"1\" class=\"dataframe\">\n",
       "  <thead>\n",
       "    <tr style=\"text-align: right;\">\n",
       "      <th></th>\n",
       "      <th>index</th>\n",
       "      <th>text</th>\n",
       "      <th>labelmax</th>\n",
       "    </tr>\n",
       "  </thead>\n",
       "  <tbody>\n",
       "    <tr>\n",
       "      <th>0</th>\n",
       "      <td>0</td>\n",
       "      <td>Pros - The people who work here are brilliant ...</td>\n",
       "      <td>customer</td>\n",
       "    </tr>\n",
       "    <tr>\n",
       "      <th>1</th>\n",
       "      <td>1</td>\n",
       "      <td>Pros Start-up vibes Fast growing company Tech-...</td>\n",
       "      <td>customer</td>\n",
       "    </tr>\n",
       "    <tr>\n",
       "      <th>2</th>\n",
       "      <td>2</td>\n",
       "      <td>Pros The team is great, I love the ambition of...</td>\n",
       "      <td>collaboration</td>\n",
       "    </tr>\n",
       "    <tr>\n",
       "      <th>3</th>\n",
       "      <td>3</td>\n",
       "      <td>Pros The company is constantly growing, and at...</td>\n",
       "      <td>adaptability</td>\n",
       "    </tr>\n",
       "    <tr>\n",
       "      <th>4</th>\n",
       "      <td>4</td>\n",
       "      <td>Pros Cool office. Friendly people. Good atmosp...</td>\n",
       "      <td>collaboration</td>\n",
       "    </tr>\n",
       "  </tbody>\n",
       "</table>\n",
       "</div>"
      ],
      "text/plain": [
       "   index                                               text       labelmax\n",
       "0      0  Pros - The people who work here are brilliant ...       customer\n",
       "1      1  Pros Start-up vibes Fast growing company Tech-...       customer\n",
       "2      2  Pros The team is great, I love the ambition of...  collaboration\n",
       "3      3  Pros The company is constantly growing, and at...   adaptability\n",
       "4      4  Pros Cool office. Friendly people. Good atmosp...  collaboration"
      ]
     },
     "execution_count": 6,
     "metadata": {},
     "output_type": "execute_result"
    }
   ],
   "source": [
    "df.head()"
   ]
  },
  {
   "cell_type": "markdown",
   "metadata": {},
   "source": [
    "It looks like the text is made up of three parts: __Pros__ and __Cons__ and __Advice to Management__."
   ]
  },
  {
   "cell_type": "code",
   "execution_count": 7,
   "metadata": {},
   "outputs": [
    {
     "data": {
      "text/plain": [
       "(91045, 3)"
      ]
     },
     "execution_count": 7,
     "metadata": {},
     "output_type": "execute_result"
    }
   ],
   "source": [
    "df[df.text.str.contains('Pros')].shape"
   ]
  },
  {
   "cell_type": "code",
   "execution_count": 8,
   "metadata": {},
   "outputs": [
    {
     "data": {
      "text/plain": [
       "(91045, 3)"
      ]
     },
     "execution_count": 8,
     "metadata": {},
     "output_type": "execute_result"
    }
   ],
   "source": [
    "df[df.text.str.contains('Cons')].shape"
   ]
  },
  {
   "cell_type": "code",
   "execution_count": 9,
   "metadata": {},
   "outputs": [
    {
     "data": {
      "text/plain": [
       "(56058, 3)"
      ]
     },
     "execution_count": 9,
     "metadata": {},
     "output_type": "execute_result"
    }
   ],
   "source": [
    "df[df.text.str.contains('Advice to Management')].shape"
   ]
  },
  {
   "cell_type": "markdown",
   "metadata": {},
   "source": [
    "### balanced? No!"
   ]
  },
  {
   "cell_type": "code",
   "execution_count": 10,
   "metadata": {},
   "outputs": [
    {
     "data": {
      "text/plain": [
       "<matplotlib.axes._subplots.AxesSubplot at 0x1a223e79e8>"
      ]
     },
     "execution_count": 10,
     "metadata": {},
     "output_type": "execute_result"
    },
    {
     "data": {
      "image/png": "[encoded data removed]",
      "text/plain": [
       "<Figure size 432x288 with 1 Axes>"
      ]
     },
     "metadata": {
      "needs_background": "light"
     },
     "output_type": "display_data"
    }
   ],
   "source": [
    "df.groupby('labelmax').count().plot(kind='bar')"
   ]
  },
  {
   "cell_type": "markdown",
   "metadata": {},
   "source": [
    "As seen in the previous cells, the data set isn't quite balanced. Some algorithms cannot cope with unbalanced datasets and train models which take the number of class occurences into account. A binary dataset with a proportion of 80-20 could therefore influence such an algorithm in a way that it always says class X and gains 80 percent accuracy. We could use over- and undersampling which only trains on balanced data."
   ]
  },
  {
   "cell_type": "markdown",
   "metadata": {},
   "source": [
    "### prepare data"
   ]
  },
  {
   "cell_type": "markdown",
   "metadata": {},
   "source": [
    "My basic data preparation encompasses word tokenizing and lemmatizing of the texts and the generation of a single word and a bigram bag-of-words. This approach gets the single words from a text and lemmatizes it, e.g. _cats_ gets transformed to _cat_. A bag-of-words is a matrix in which each row is a data sample and each column a specific word. The values are the number of occurences of the respective word in the respective data sample. A bigram bag-of-words is similar but looks at 2 succeeding words at the same time, i.e. _the cat drinks_ gets transformed in the bigram bag-of-words (_the cat_, _cat drinks_)."
   ]
  },
  {
   "cell_type": "code",
   "execution_count": 11,
   "metadata": {},
   "outputs": [],
   "source": [
    "from nltk.stem import WordNetLemmatizer, PorterStemmer\n",
    "from sklearn.model_selection import cross_validate"
   ]
  },
  {
   "cell_type": "code",
   "execution_count": 12,
   "metadata": {},
   "outputs": [],
   "source": [
    "from sklearn.feature_extraction.text import CountVectorizer"
   ]
  },
  {
   "cell_type": "code",
   "execution_count": 13,
   "metadata": {},
   "outputs": [],
   "source": [
    "wordnet_lemmatizer = WordNetLemmatizer()"
   ]
  },
  {
   "cell_type": "code",
   "execution_count": 14,
   "metadata": {},
   "outputs": [],
   "source": [
    "def tokenize(review):\n",
    "    return [wordnet_lemmatizer.lemmatize(w) for w in nltk.word_tokenize(review)]"
   ]
  },
  {
   "cell_type": "code",
   "execution_count": 15,
   "metadata": {},
   "outputs": [],
   "source": [
    "vectorizer = CountVectorizer(tokenizer=tokenize, ngram_range=(1,1), min_df=5)"
   ]
  },
  {
   "cell_type": "code",
   "execution_count": 16,
   "metadata": {},
   "outputs": [],
   "source": [
    "y = df.labelmax"
   ]
  },
  {
   "cell_type": "code",
   "execution_count": 17,
   "metadata": {},
   "outputs": [],
   "source": [
    "vectorizer2 = CountVectorizer(tokenizer=tokenize, ngram_range=(2,2), min_df=5)"
   ]
  },
  {
   "cell_type": "code",
   "execution_count": 18,
   "metadata": {},
   "outputs": [],
   "source": [
    "X_2 = vectorizer2.fit_transform(df.text)"
   ]
  },
  {
   "cell_type": "markdown",
   "metadata": {},
   "source": [
    "### sample 10%"
   ]
  },
  {
   "cell_type": "markdown",
   "metadata": {},
   "source": [
    "I only sample 10% of the data due to resource sparcity. The sampling will help me quickly compare models and approaches. The best approach will be used to train on the whole data."
   ]
  },
  {
   "cell_type": "code",
   "execution_count": 19,
   "metadata": {},
   "outputs": [],
   "source": [
    "sample_ids = df.sample(frac=0.1).index"
   ]
  },
  {
   "cell_type": "code",
   "execution_count": 20,
   "metadata": {},
   "outputs": [],
   "source": [
    "X_sample = X[sample_ids, :]"
   ]
  },
  {
   "cell_type": "code",
   "execution_count": 21,
   "metadata": {},
   "outputs": [],
   "source": [
    "y_sample = y.iloc[sample_ids]"
   ]
  },
  {
   "cell_type": "code",
   "execution_count": 22,
   "metadata": {},
   "outputs": [],
   "source": [
    "X_sample_2 = X_2[sample_ids, :]"
   ]
  },
  {
   "cell_type": "markdown",
   "metadata": {},
   "source": [
    "## Compare different algorithms"
   ]
  },
  {
   "cell_type": "markdown",
   "metadata": {},
   "source": [
    "### Logistic Regression on Bag-of-Words"
   ]
  },
  {
   "cell_type": "markdown",
   "metadata": {},
   "source": [
    "When I work on classification tasks, I always try Logistic Regression (LR) first. Moreover, for language models, the bag-of-words approach is the first one to try. Here, the single words occuring in a text are getting weighted by LR and future predictions will take those weights to calculate the respective classes. The combination of words or the syntax of single sentences is not considered with that approach. The advantage, however, is its simplicity. After the training is done, we can easily look at the coefficients and tell what words influence the model to which extent. I will compare _Logistic Regression_ with _Random Forest_, _SVC_, _LinearSVC_ and _Multinomial Naive Bayes_. Other algorithms as _XGBoost_ etc could be tested, too. When comparing different approaches, I use cross validation with a folding number of 3. Here, the training set is randomly divided in training and test set. The classifier is trained with the training set and validated with the test set. This happens 3 times. The cross validation approach helps assure that train and test split wasn't a lucky pick which shows good examples but performs bad otherwise."
   ]
  },
  {
   "cell_type": "code",
   "execution_count": 23,
   "metadata": {},
   "outputs": [],
   "source": [
    "from sklearn.linear_model import LogisticRegression\n",
    "from sklearn.ensemble import RandomForestClassifier\n",
    "from sklearn.svm import SVC, LinearSVC\n",
    "from sklearn.naive_bayes import MultinomialNB"
   ]
  },
  {
   "cell_type": "code",
   "execution_count": 24,
   "metadata": {},
   "outputs": [],
   "source": [
    "results = []\n",
    "for alg in [LogisticRegression, RandomForestClassifier, SVC, LinearSVC, MultinomialNB]:\n",
    "    model = alg()\n",
    "    cv_results = cross_validate(model, X_sample, y_sample, return_train_score=False)\n",
    "    results.append(cv_results['test_score'])"
   ]
  },
  {
   "cell_type": "code",
   "execution_count": 25,
   "metadata": {},
   "outputs": [
    {
     "data": {
      "text/plain": [
       "<matplotlib.axes._subplots.AxesSubplot at 0x1a2b5240b8>"
      ]
     },
     "execution_count": 25,
     "metadata": {},
     "output_type": "execute_result"
    },
    {
     "data": {
      "image/png": "[encoded data removed]",
      "text/plain": [
       "<Figure size 432x288 with 1 Axes>"
      ]
     },
     "metadata": {
      "needs_background": "light"
     },
     "output_type": "display_data"
    }
   ],
   "source": [
    "seaborn.boxplot(x=['LogisticRegression', \n",
    "                   'RandomForestClassifier', \n",
    "                   'SVC',\n",
    "                   'LinearSVC',\n",
    "                   'MultinomialNB'\n",
    "                  ],\n",
    "                y=results)"
   ]
  },
  {
   "cell_type": "code",
   "execution_count": 26,
   "metadata": {},
   "outputs": [
    {
     "data": {
      "text/plain": [
       "[array([0.72547684, 0.73901193, 0.73133311]),\n",
       " array([0.42608992, 0.43032368, 0.41084214]),\n",
       " array([0.30551771, 0.30562181, 0.30548926]),\n",
       " array([0.69414169, 0.70971039, 0.69382884]),\n",
       " array([0.50715259, 0.5253833 , 0.52403682])]"
      ]
     },
     "execution_count": 26,
     "metadata": {},
     "output_type": "execute_result"
    }
   ],
   "source": [
    "results"
   ]
  },
  {
   "cell_type": "markdown",
   "metadata": {},
   "source": [
    "Surprisingly, in comparison with other classifiers, Logistic Regression does very well for that task taking into account that it has only 10% of the data. In other tasks I've done so far, I could gain more percentages with Random Forest than Logisitic Regression. Moreover, Logistic Regression isn't influenced by unbalanced data. Therefore, we do not need to over- or undersample while training."
   ]
  },
  {
   "cell_type": "markdown",
   "metadata": {},
   "source": [
    "### bigram bag-of-words"
   ]
  },
  {
   "cell_type": "code",
   "execution_count": 27,
   "metadata": {},
   "outputs": [
    {
     "data": {
      "text/plain": [
       "array([0.54461853, 0.5407155 , 0.54960791])"
      ]
     },
     "execution_count": 27,
     "metadata": {},
     "output_type": "execute_result"
    }
   ],
   "source": [
    "lr_n2 = LogisticRegression()\n",
    "cv_results = cross_validate(lr_n2, X_sample_2, y_sample, return_train_score=False)\n",
    "cv_results['test_score']"
   ]
  },
  {
   "cell_type": "markdown",
   "metadata": {},
   "source": [
    "The bigram approach does not work better than the single word bag-of-words! Hence, the combination of words doesn't contribute as much as the single words. Therefore, I will try to continue working on the single word features. At next, I won't just use word lemmatizing but rather use stemming and ignore stopwords."
   ]
  },
  {
   "cell_type": "markdown",
   "metadata": {},
   "source": [
    "### stemming"
   ]
  },
  {
   "cell_type": "code",
   "execution_count": 28,
   "metadata": {},
   "outputs": [],
   "source": [
    "stemmer = PorterStemmer()"
   ]
  },
  {
   "cell_type": "code",
   "execution_count": 29,
   "metadata": {},
   "outputs": [],
   "source": [
    "def tokenize_st(review):\n",
    "    return [stemmer.stem(w) for w in tokenize(review)]"
   ]
  },
  {
   "cell_type": "code",
   "execution_count": 30,
   "metadata": {},
   "outputs": [],
   "source": [
    "vectorizer = CountVectorizer(tokenizer=tokenize_st, ngram_range=(1,1), min_df=5)"
   ]
  },
  {
   "cell_type": "code",
   "execution_count": 31,
   "metadata": {},
   "outputs": [],
   "source": [
    "X_st = vectorizer.fit_transform(df.text)"
   ]
  },
  {
   "cell_type": "code",
   "execution_count": 32,
   "metadata": {},
   "outputs": [],
   "source": [
    "X_sample_st = X_st[sample_ids, :]"
   ]
  },
  {
   "cell_type": "code",
   "execution_count": 33,
   "metadata": {},
   "outputs": [
    {
     "data": {
      "text/plain": [
       "array([0.76396458, 0.77614991, 0.76508694])"
      ]
     },
     "execution_count": 33,
     "metadata": {},
     "output_type": "execute_result"
    }
   ],
   "source": [
    "lr_st = LogisticRegression()\n",
    "cv_results = cross_validate(lr_st, X_sample_st, y_sample, return_train_score=False)\n",
    "cv_results['test_score']"
   ]
  },
  {
   "cell_type": "markdown",
   "metadata": {},
   "source": [
    "Stemming improves the model even more. This is because of the generalization of different words with the same stem. As I already mentioned, a model just looking at single words works probably better for that data than a more complex one. Stemming helps combining different words with the same stem, reduces the feature size and simplifies the model, i.e. the words _inspection_ and _inspecting_ both get transformed into the stem _inspect_. We continue using stemmed features."
   ]
  },
  {
   "cell_type": "markdown",
   "metadata": {},
   "source": [
    "### ignore stop words"
   ]
  },
  {
   "cell_type": "markdown",
   "metadata": {},
   "source": [
    "Stop words are words like _a, and_ or _or_. Usually, these words do not add meaning to bag-of-words models and therefore can be ignored."
   ]
  },
  {
   "cell_type": "code",
   "execution_count": 34,
   "metadata": {},
   "outputs": [],
   "source": [
    "from nltk.corpus import stopwords"
   ]
  },
  {
   "cell_type": "code",
   "execution_count": 35,
   "metadata": {},
   "outputs": [],
   "source": [
    "stop_words = set(stopwords.words('english'))"
   ]
  },
  {
   "cell_type": "code",
   "execution_count": 36,
   "metadata": {},
   "outputs": [],
   "source": [
    "def tokenize_stop(review):\n",
    "    return [stemmer.stem(w) for w in nltk.word_tokenize(review) if w not in stop_words]"
   ]
  },
  {
   "cell_type": "code",
   "execution_count": 37,
   "metadata": {},
   "outputs": [],
   "source": [
    "vectorizer = CountVectorizer(tokenizer=tokenize_stop, ngram_range=(1,1), min_df=5)"
   ]
  },
  {
   "cell_type": "code",
   "execution_count": 38,
   "metadata": {},
   "outputs": [],
   "source": [
    "X_stop = vectorizer.fit_transform(df.text)"
   ]
  },
  {
   "cell_type": "code",
   "execution_count": 39,
   "metadata": {},
   "outputs": [],
   "source": [
    "X_sample_stop = X_stop[sample_ids, :]"
   ]
  },
  {
   "cell_type": "code",
   "execution_count": 40,
   "metadata": {},
   "outputs": [
    {
     "data": {
      "text/plain": [
       "array([0.77384196, 0.78228279, 0.77224685])"
      ]
     },
     "execution_count": 40,
     "metadata": {},
     "output_type": "execute_result"
    }
   ],
   "source": [
    "lr_stop = LogisticRegression()\n",
    "cv_results = cross_validate(lr_stop, X_sample_stop, y_sample, return_train_score=False)\n",
    "cv_results['test_score']"
   ]
  },
  {
   "cell_type": "markdown",
   "metadata": {},
   "source": [
    "As seen, ignoring the stop words improves the model slightly."
   ]
  },
  {
   "cell_type": "markdown",
   "metadata": {},
   "source": [
    "### multi_class='multinomial'"
   ]
  },
  {
   "cell_type": "markdown",
   "metadata": {},
   "source": [
    "The _multinomial_ parameter builds a multi-class model using multinomial regression which build a classifier that learns dependent variables, i.e. updating the parameters for one class also influences the parameters being important for another one. In contrast, the _ovr_ (the other option here) meaning one-vs-rest builds independent classifiers for each class modeling the probability that class _k_ is more likely than all the other classes."
   ]
  },
  {
   "cell_type": "code",
   "execution_count": 41,
   "metadata": {
    "scrolled": true
   },
   "outputs": [
    {
     "data": {
      "text/plain": [
       "array([0.79058281, 0.8       , 0.78825858])"
      ]
     },
     "execution_count": 41,
     "metadata": {},
     "output_type": "execute_result"
    }
   ],
   "source": [
    "lr_stop = LogisticRegression(solver='newton-cg', multi_class='multinomial')\n",
    "cv_results = cross_validate(lr_stop, X_sample_stop, y_sample, return_train_score=False)\n",
    "cv_results['test_score']"
   ]
  },
  {
   "cell_type": "markdown",
   "metadata": {},
   "source": [
    "Using the multinomial solver _newton-cg_ with _multinomial_ regression helped improving the results even a bit more."
   ]
  },
  {
   "cell_type": "markdown",
   "metadata": {},
   "source": [
    "## Test final approach on whole dataset"
   ]
  },
  {
   "cell_type": "code",
   "execution_count": 42,
   "metadata": {},
   "outputs": [],
   "source": [
    "X = vectorizer.fit_transform(df.text)\n",
    "y = df.labelmax"
   ]
  },
  {
   "cell_type": "code",
   "execution_count": 43,
   "metadata": {},
   "outputs": [
    {
     "data": {
      "text/plain": [
       "array([0.93597276, 0.92707304, 0.9232797 , 0.93068981, 0.92239249])"
      ]
     },
     "execution_count": 43,
     "metadata": {},
     "output_type": "execute_result"
    }
   ],
   "source": [
    "lr_final = LogisticRegression(solver='newton-cg', multi_class='multinomial')\n",
    "cv_results = cross_validate(lr_final, X, y, cv=5, return_train_score=False)\n",
    "cv_results['test_score']"
   ]
  },
  {
   "cell_type": "code",
   "execution_count": 44,
   "metadata": {},
   "outputs": [
    {
     "name": "stdout",
     "output_type": "stream",
     "text": [
      "Final accuracy with 5-fold cross validation: 0.9278815580890247\n"
     ]
    }
   ],
   "source": [
    "print('Final accuracy with 5-fold cross validation:', cv_results['test_score'].mean())"
   ]
  },
  {
   "cell_type": "markdown",
   "metadata": {},
   "source": [
    "![title](https://i.giphy.com/media/nXxOjZrbnbRxS/giphy.webp)"
   ]
  },
  {
   "cell_type": "markdown",
   "metadata": {},
   "source": [
    "# Next steps for further improvements"
   ]
  },
  {
   "cell_type": "markdown",
   "metadata": {},
   "source": [
    "My model is a rather simple one. If I could have more time, I would go on trying to juggle around with the text data. Here, some steps would be trying to remove parameters that do not contribute to the predictions. This could be done with __Principle Component Analysis__ which is trying to find correlations between parameters and reduces them to a given number by combining correlating parameters. Moreover, I would start doing __hyperparameter optimization__ to play around with the Logistic Regression parameters as penalties, regularization terms, scaling or which solver to use. For this approach the library _hyperopt-sklearn_ comes quite handy as it can be easily used together with _sklearn_. Additionally, I could have tried using both bigram and single word bag-of-words (maybe with PCA afterwards) to find significant combinations and single words together.\n",
    "\n",
    "Another possibility for finding a good model can be __fastText__ which is a more complex algorithm creating word vectors or using already trained ones. It creates a classifier model that can be trained in a very fast and well-performing way. It creates word representations with the Word2Vec approach and feds those representations into a linear classifier.\n",
    "\n",
    "For other languages, I am suggesting translating the texts to english to use this model. As we only look at single words and their contribution to different classes, those words in other languages could indicate similar company culture. The problem is often that labeled data for other languages than english is sparse. Therefore, I suggest using fastText as you can use already trained word vectors for 157 different languages (https://fasttext.cc/docs/en/crawl-vectors.html) which can then be fine-tuned with less data.\n",
    "\n",
    "At last, I am a fan of this particular web page: https://github.com/sebastianruder/NLP-progress. Here, state-of-the-art methods on different NLP tasks are tracked. The best model for text classification is ULMFiT which is a transfer learning model, i.e. a neural network model that was already trained on a dataset like Wikipedia and whose knowledge is further used (fine-tuned) on other tasks like the specific one here. The disadvantage of those complex models is the fact that they are more complicated to analyze (sometimes it isn't possible at all). Logistic Regression, anyhow, is easy to analyze but performs maybe a bit worse. In general, using too complex models is a decision that carefully has to be thought about as both debugging and explaining suffer from those models. A business that has to explain its decisions, like a bank that must explain why someone didn't get a loan, would rather use a slighty worse but more simple model."
   ]
  },
  {
   "cell_type": "markdown",
   "metadata": {},
   "source": [
    "# Deploying the model"
   ]
  },
  {
   "cell_type": "markdown",
   "metadata": {},
   "source": [
    "To use the model in production, I like the approach of using __Flask__. First, I would create a __pipeline__ involving the tokenizer, count vectorizer and the logistic regression model and pickle it to a file which will be loaded in a Flask app. Here, it needs to be loaded into memory to avoid loading it from disk with every API call. A solution is sklearn's __joblib__ module to load it into a global variable. This Flask app has an endpoint that takes in the raw text / features of the model. It predicts the output which then get returned. Here, I would prefer a JSON endpoint. I have also already used django's rest-framework for deploying models but I like the simplicity and flexibility of Flask a bit more."
   ]
  },
  {
   "cell_type": "markdown",
   "metadata": {},
   "source": [
    "# Predict classes for unlabeled texts"
   ]
  },
  {
   "cell_type": "markdown",
   "metadata": {},
   "source": [
    "### train on whole dataset"
   ]
  },
  {
   "cell_type": "code",
   "execution_count": 45,
   "metadata": {},
   "outputs": [],
   "source": [
    "from sklearn.pipeline import Pipeline"
   ]
  },
  {
   "cell_type": "code",
   "execution_count": 46,
   "metadata": {},
   "outputs": [],
   "source": [
    "clf = Pipeline([\n",
    "    ('vectorizer', CountVectorizer(tokenizer=tokenize_stop, ngram_range=(1,1), min_df=5)),\n",
    "    ('logreg', LogisticRegression(solver='newton-cg', multi_class='multinomial'))\n",
    "])"
   ]
  },
  {
   "cell_type": "code",
   "execution_count": 47,
   "metadata": {},
   "outputs": [],
   "source": [
    "clf = clf.fit(df.text, df.labelmax)"
   ]
  },
  {
   "cell_type": "markdown",
   "metadata": {},
   "source": [
    "### check training accuracy"
   ]
  },
  {
   "cell_type": "code",
   "execution_count": 48,
   "metadata": {},
   "outputs": [
    {
     "data": {
      "text/plain": [
       "0.9914323374340949"
      ]
     },
     "execution_count": 48,
     "metadata": {},
     "output_type": "execute_result"
    }
   ],
   "source": [
    "test = df.sample(frac=0.05)\n",
    "clf.score(test.text, test.labelmax)"
   ]
  },
  {
   "cell_type": "markdown",
   "metadata": {},
   "source": [
    "### load unlabeled texts"
   ]
  },
  {
   "cell_type": "code",
   "execution_count": 49,
   "metadata": {},
   "outputs": [],
   "source": [
    "import os"
   ]
  },
  {
   "cell_type": "code",
   "execution_count": 50,
   "metadata": {},
   "outputs": [],
   "source": [
    "os.mkdir('data/unlabelled-dataset-predictions/')"
   ]
  },
  {
   "cell_type": "code",
   "execution_count": 51,
   "metadata": {
    "scrolled": true
   },
   "outputs": [
    {
     "name": "stdout",
     "output_type": "stream",
     "text": [
      "data/unlabelled-dataset/Acuris.json\n",
      "data/unlabelled-dataset/parlamind.json\n",
      "data/unlabelled-dataset/Blacklane.json\n",
      "data/unlabelled-dataset/Medigo.json\n",
      "data/unlabelled-dataset/Helix Sleep.json\n",
      "data/unlabelled-dataset/Mediaocean.json\n",
      "data/unlabelled-dataset/Kontist.json\n",
      "data/unlabelled-dataset/Truphone.json\n",
      "data/unlabelled-dataset/Stadium Goods.json\n",
      "data/unlabelled-dataset/KBS.json\n",
      "data/unlabelled-dataset/Comtravo.json\n",
      "data/unlabelled-dataset/Viacom.json\n",
      "data/unlabelled-dataset/Morgan Hunt.json\n",
      "data/unlabelled-dataset/Vaniday Global Services.json\n",
      "data/unlabelled-dataset/WorldFirst.json\n",
      "data/unlabelled-dataset/Finiata.json\n",
      "data/unlabelled-dataset/Investigo.json\n",
      "data/unlabelled-dataset/Lemonade.json\n",
      "data/unlabelled-dataset/YAS.json\n",
      "data/unlabelled-dataset/Framestore.json\n",
      "data/unlabelled-dataset/Homebell.json\n",
      "data/unlabelled-dataset/EE.json\n",
      "data/unlabelled-dataset/Healthfirst (New York).json\n",
      "data/unlabelled-dataset/Bedly.json\n",
      "data/unlabelled-dataset/Liverpool Echo.json\n",
      "data/unlabelled-dataset/Edelman.json\n",
      "data/unlabelled-dataset/BillFront.json\n",
      "data/unlabelled-dataset/Glispa.json\n",
      "data/unlabelled-dataset/Carphone Warehouse.json\n",
      "data/unlabelled-dataset/EAT.json\n",
      "data/unlabelled-dataset/Bupa.json\n",
      "data/unlabelled-dataset/TAB.json\n",
      "data/unlabelled-dataset/Fineway.json\n",
      "data/unlabelled-dataset/Simplaex.json\n",
      "data/unlabelled-dataset/heycater!.json\n",
      "data/unlabelled-dataset/Cablevision Systems.json\n",
      "data/unlabelled-dataset/Werk.json\n",
      "data/unlabelled-dataset/DataSine.json\n",
      "data/unlabelled-dataset/EmblemHealth.json\n",
      "data/unlabelled-dataset/Mintel.json\n",
      "data/unlabelled-dataset/Arcadia.json\n",
      "data/unlabelled-dataset/InstaFreight.json\n",
      "data/unlabelled-dataset/JetBlue.json\n",
      "data/unlabelled-dataset/Capita.json\n",
      "data/unlabelled-dataset/CompareEuropeGroup.json\n",
      "data/unlabelled-dataset/Frank.json\n",
      "data/unlabelled-dataset/UBM.json\n",
      "data/unlabelled-dataset/Veyo Care.json\n",
      "data/unlabelled-dataset/Roman.json\n",
      "data/unlabelled-dataset/iFunded.json\n",
      "data/unlabelled-dataset/BlackRock.json\n",
      "data/unlabelled-dataset/StoYo Media.json\n",
      "data/unlabelled-dataset/PrintPeter.json\n",
      "data/unlabelled-dataset/CDM.json\n",
      "data/unlabelled-dataset/Gorkana.json\n",
      "data/unlabelled-dataset/Misys.json\n",
      "data/unlabelled-dataset/Civey.json\n",
      "data/unlabelled-dataset/N26.json\n",
      "data/unlabelled-dataset/Huge.json\n",
      "data/unlabelled-dataset/Streetbees.json\n",
      "data/unlabelled-dataset/McMakler.json\n",
      "data/unlabelled-dataset/SumUp.json\n",
      "data/unlabelled-dataset/Architrave.json\n",
      "data/unlabelled-dataset/homify.json\n",
      "data/unlabelled-dataset/Revere.json\n",
      "data/unlabelled-dataset/Quandoo.json\n",
      "data/unlabelled-dataset/Native Instruments.json\n",
      "data/unlabelled-dataset/Move24.json\n",
      "data/unlabelled-dataset/Handy.json\n",
      "data/unlabelled-dataset/Booker.json\n",
      "data/unlabelled-dataset/Lingoda.json\n",
      "data/unlabelled-dataset/marcus evans.json\n",
      "data/unlabelled-dataset/Robert Walters.json\n",
      "data/unlabelled-dataset/Lycamobile.json\n",
      "data/unlabelled-dataset/Worldpay.json\n",
      "data/unlabelled-dataset/Habito.json\n",
      "data/unlabelled-dataset/First Data.json\n",
      "data/unlabelled-dataset/ottonova.json\n",
      "data/unlabelled-dataset/Knotel.json\n",
      "data/unlabelled-dataset/SMACC.json\n",
      "data/unlabelled-dataset/Experian.json\n",
      "data/unlabelled-dataset/Information Builders.json\n",
      "data/unlabelled-dataset/Bonify.json\n",
      "data/unlabelled-dataset/test IO.json\n",
      "data/unlabelled-dataset/Headstart.json\n",
      "data/unlabelled-dataset/Simple Contacts.json\n",
      "data/unlabelled-dataset/FL Memo.json\n",
      "data/unlabelled-dataset/Service Partner ONE.json\n",
      "data/unlabelled-dataset/WING Latino.json\n",
      "data/unlabelled-dataset/HeavenHR.json\n",
      "data/unlabelled-dataset/Watchmaster ICP.json\n",
      "data/unlabelled-dataset/DailyPay.json\n",
      "data/unlabelled-dataset/Burrow.json\n",
      "data/unlabelled-dataset/Mindshare.json\n",
      "data/unlabelled-dataset/Florence (UK).json\n",
      "data/unlabelled-dataset/Ladbrokes.json\n",
      "data/unlabelled-dataset/Joy.json\n",
      "data/unlabelled-dataset/wefox.json\n",
      "data/unlabelled-dataset/Deloitte.json\n",
      "data/unlabelled-dataset/Venn Group.json\n",
      "data/unlabelled-dataset/Billie Cohen.json\n",
      "data/unlabelled-dataset/GIMO.json\n",
      "data/unlabelled-dataset/Monzo Bank.json\n",
      "data/unlabelled-dataset/Zego.json\n",
      "data/unlabelled-dataset/Zenjob.json\n",
      "data/unlabelled-dataset/Baringa Partners.json\n",
      "data/unlabelled-dataset/CLeo.json\n",
      "data/unlabelled-dataset/Away.json\n",
      "data/unlabelled-dataset/Horizn Studios.json\n",
      "data/unlabelled-dataset/Airsorted.json\n",
      "data/unlabelled-dataset/massagio.json\n",
      "data/unlabelled-dataset/IDAGIO.json\n",
      "data/unlabelled-dataset/elder.json\n",
      "data/unlabelled-dataset/MEC.json\n",
      "data/unlabelled-dataset/Twenty Billion Neurons.json\n",
      "data/unlabelled-dataset/Waitrose.json\n",
      "data/unlabelled-dataset/Alloy.json\n",
      "data/unlabelled-dataset/GlobalData.json\n",
      "data/unlabelled-dataset/HeyJobs.json\n",
      "data/unlabelled-dataset/volders.json\n",
      "data/unlabelled-dataset/OLIO.json\n",
      "data/unlabelled-dataset/CoverWallet.json\n",
      "data/unlabelled-dataset/Third Bridge.json\n",
      "data/unlabelled-dataset/Sprinklr.json\n",
      "data/unlabelled-dataset/ShieldPay.json\n",
      "data/unlabelled-dataset/G4S.json\n",
      "data/unlabelled-dataset/Nomad Health.json\n",
      "data/unlabelled-dataset/Gamesys.json\n",
      "data/unlabelled-dataset/Clearmatics.json\n",
      "data/unlabelled-dataset/Oakam.json\n",
      "data/unlabelled-dataset/MediaMath.json\n",
      "data/unlabelled-dataset/Capco.json\n",
      "data/unlabelled-dataset/Zeitgold.json\n",
      "data/unlabelled-dataset/store2be.json\n",
      "data/unlabelled-dataset/Common Living.json\n",
      "data/unlabelled-dataset/Xchanging.json\n",
      "data/unlabelled-dataset/GLL.json\n",
      "data/unlabelled-dataset/Daily Harvest.json\n",
      "data/unlabelled-dataset/Lendico.json\n",
      "data/unlabelled-dataset/Datapath.io.json\n",
      "data/unlabelled-dataset/Nielsen.json\n",
      "data/unlabelled-dataset/ELEMENT Insurance.json\n",
      "data/unlabelled-dataset/Spreefang.json\n",
      "data/unlabelled-dataset/Exponea.json\n",
      "data/unlabelled-dataset/HCL Technologies.json\n",
      "data/unlabelled-dataset/eHealth MediDate.json\n",
      "data/unlabelled-dataset/SelfMade.json\n",
      "data/unlabelled-dataset/Enmacc.json\n",
      "data/unlabelled-dataset/Roq.ad.json\n",
      "data/unlabelled-dataset/Cockroach Labs.json\n",
      "data/unlabelled-dataset/Nasdaq.json\n",
      "data/unlabelled-dataset/FreightHub.json\n",
      "data/unlabelled-dataset/AOL.json\n",
      "data/unlabelled-dataset/Current.json\n",
      "data/unlabelled-dataset/Aaptiv.json\n",
      "data/unlabelled-dataset/Sourcepoint.json\n",
      "data/unlabelled-dataset/Compaio.json\n",
      "data/unlabelled-dataset/Trussle.json\n",
      "data/unlabelled-dataset/TNS Global.json\n",
      "data/unlabelled-dataset/Getsurance.json\n",
      "data/unlabelled-dataset/Stash Invest.json\n",
      "data/unlabelled-dataset/Vivantes.json\n",
      "data/unlabelled-dataset/JetEight.json\n",
      "data/unlabelled-dataset/Chase.json\n",
      "data/unlabelled-dataset/Incisive Media.json\n",
      "data/unlabelled-dataset/The Nue Co.json\n",
      "data/unlabelled-dataset/Curve (London).json\n",
      "data/unlabelled-dataset/Schroders.json\n",
      "data/unlabelled-dataset/Visual Meta.json\n",
      "data/unlabelled-dataset/Debut Contemporary.json\n",
      "data/unlabelled-dataset/Cedar.json\n",
      "data/unlabelled-dataset/123makler.json\n",
      "data/unlabelled-dataset/Bud.json\n",
      "data/unlabelled-dataset/Letgo.json\n",
      "data/unlabelled-dataset/Foster + Partners.json\n",
      "data/unlabelled-dataset/adHawk.json\n",
      "data/unlabelled-dataset/Comodo.json\n",
      "data/unlabelled-dataset/Market Logic Software.json\n",
      "data/unlabelled-dataset/Innolend.json\n",
      "data/unlabelled-dataset/CA Technologies.json\n",
      "data/unlabelled-dataset/Babbel.json\n",
      "data/unlabelled-dataset/FLIP.json\n",
      "data/unlabelled-dataset/Cluetivity.json\n",
      "data/unlabelled-dataset/Knock.json\n",
      "data/unlabelled-dataset/Trouva.json\n",
      "data/unlabelled-dataset/Univision.json\n",
      "data/unlabelled-dataset/AllianceBernstein.json\n",
      "data/unlabelled-dataset/FinCompare.json\n",
      "data/unlabelled-dataset/optilyz.json\n",
      "data/unlabelled-dataset/Moneybox.json\n",
      "data/unlabelled-dataset/Harrods.json\n",
      "data/unlabelled-dataset/Hearst.json\n",
      "data/unlabelled-dataset/Movinga.json\n",
      "data/unlabelled-dataset/Superdrug.json\n",
      "data/unlabelled-dataset/MetLife.json\n",
      "data/unlabelled-dataset/Hero Corp.json\n",
      "data/unlabelled-dataset/Colt Technology Services.json\n",
      "data/unlabelled-dataset/Taledo.json\n",
      "data/unlabelled-dataset/Informa.json\n",
      "data/unlabelled-dataset/Genpact.json\n",
      "data/unlabelled-dataset/Squarespace.json\n",
      "data/unlabelled-dataset/wagamama.json\n",
      "data/unlabelled-dataset/Willis Towers Watson.json\n",
      "data/unlabelled-dataset/Aviva.json\n",
      "data/unlabelled-dataset/YieldStreet.json\n",
      "data/unlabelled-dataset/Personio.json\n",
      "data/unlabelled-dataset/Dawanda.json\n",
      "data/unlabelled-dataset/Inspirient.json\n",
      "data/unlabelled-dataset/FinLeap.json\n",
      "data/unlabelled-dataset/Victoria & Albert Museum.json\n",
      "data/unlabelled-dataset/solarisBank.json\n",
      "data/unlabelled-dataset/B12.json\n",
      "data/unlabelled-dataset/Hydrogen Group plc.json\n"
     ]
    },
    {
     "name": "stdout",
     "output_type": "stream",
     "text": [
      "data/unlabelled-dataset/Joblift.json\n",
      "data/unlabelled-dataset/Marie Claire Magazine.json\n",
      "data/unlabelled-dataset/Wimdu.json\n",
      "data/unlabelled-dataset/KidPass.json\n",
      "data/unlabelled-dataset/Nomura Securities.json\n",
      "data/unlabelled-dataset/Brolly.json\n",
      "data/unlabelled-dataset/payleven.json\n",
      "data/unlabelled-dataset/Initiative.json\n",
      "data/unlabelled-dataset/Clark.json\n",
      "data/unlabelled-dataset/Mishipay.json\n",
      "data/unlabelled-dataset/Caroobi.json\n",
      "data/unlabelled-dataset/Coureon Logistics.json\n"
     ]
    }
   ],
   "source": [
    "for uld_path in os.listdir('data/unlabelled-dataset/'):\n",
    "    current_path = os.path.join('data/unlabelled-dataset/', uld_path)\n",
    "    new_path = os.path.join('data/unlabelled-dataset-predictions/', uld_path)\n",
    "    print(current_path)\n",
    "    p_df = pd.read_json(current_path)\n",
    "    if p_df.empty:\n",
    "        continue\n",
    "    p_df['prediction'] = clf.predict(p_df.text)\n",
    "    p_df.to_json(new_path, orient='records')"
   ]
  },
  {
   "cell_type": "code",
   "execution_count": null,
   "metadata": {},
   "outputs": [],
   "source": []
  }
 ],
 "metadata": {
  "kernelspec": {
   "display_name": "Python [conda env:bunchai]",
   "language": "python",
   "name": "conda-env-bunchai-py"
  },
  "language_info": {
   "codemirror_mode": {
    "name": "ipython",
    "version": 3
   },
   "file_extension": ".py",
   "mimetype": "text/x-python",
   "name": "python",
   "nbconvert_exporter": "python",
   "pygments_lexer": "ipython3",
   "version": "3.6.6"
  }
 },
 "nbformat": 4,
 "nbformat_minor": 2
}
